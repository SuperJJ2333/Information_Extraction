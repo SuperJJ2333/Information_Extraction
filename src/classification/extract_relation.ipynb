{
 "cells": [
  {
   "cell_type": "code",
   "id": "initial_id",
   "metadata": {
    "collapsed": true,
    "ExecuteTime": {
     "end_time": "2024-08-30T13:21:26.329100Z",
     "start_time": "2024-08-30T13:21:26.317880Z"
    }
   },
   "source": [
    "from paddlenlp import Taskflow\n",
    "import paddle\n",
    "import pandas as pd\n",
    "import ast\n",
    "from datetime import datetime\n",
    "\n",
    "import warnings\n",
    "\n",
    "warnings.simplefilter(action='ignore', category=FutureWarning)\n"
   ],
   "execution_count": 19,
   "outputs": []
  },
  {
   "metadata": {
    "ExecuteTime": {
     "end_time": "2024-08-30T13:21:26.439390Z",
     "start_time": "2024-08-30T13:21:26.337892Z"
    }
   },
   "cell_type": "code",
   "source": [
    "text = ''\n",
    "# files_path = r'../../temp/甘肃省_学习考察.xlsx'\n",
    "files_path = r'../../temp/全对测试集_学习考察.xlsx'\n",
    "# paddle.device.set_device(\"gpu\")\n",
    "original_data = pd.read_excel(files_path)\n",
    "data = original_data.copy()"
   ],
   "id": "d5cdd3850bb18f56",
   "execution_count": 20,
   "outputs": []
  },
  {
   "metadata": {
    "ExecuteTime": {
     "end_time": "2024-08-30T13:21:26.467930Z",
     "start_time": "2024-08-30T13:21:26.443480Z"
    }
   },
   "cell_type": "code",
   "source": [
    "def process_content(x):\n",
    "    # 防止长度过长\n",
    "    if len(x) > 1500:\n",
    "        return x\n",
    "    return ','.join(x)\n",
    "\n",
    "data['content'] = data['content'].apply(ast.literal_eval)\n",
    "data['content'] = data['content'].apply(process_content)"
   ],
   "id": "cc38e2c409fcdfd6",
   "execution_count": 21,
   "outputs": []
  },
  {
   "metadata": {
    "ExecuteTime": {
     "end_time": "2024-08-30T13:21:29.939933Z",
     "start_time": "2024-08-30T13:21:26.470450Z"
    }
   },
   "cell_type": "code",
   "source": [
    "# 关系抽取\n",
    "schema = {'考察人姓名': ['考察人职位', '考察人所属城市', '所考察的城市']}\n",
    "ie = Taskflow('information_extraction', schema=schema, batch_size=8)"
   ],
   "id": "ce68358392a1163a",
   "execution_count": 22,
   "outputs": []
  },
  {
   "metadata": {
    "ExecuteTime": {
     "end_time": "2024-08-30T13:21:40.608228Z",
     "start_time": "2024-08-30T13:21:29.942753Z"
    }
   },
   "cell_type": "code",
   "source": [
    "# schema = {'考察触发词': ['来访城市', '受访城市', '来访人', '职位', '接访人'],\n",
    "#           '访问触发词': ['来访城市', '受访城市', '来访人', '职位', '接访人'],\n",
    "#           '学习触发词': ['来访城市', '受访城市', '来访人', '职位', '接访人']\n",
    "#           }\n",
    "\n",
    "# 批量处理数据\n",
    "results = [ie(content) for content in data['content']]"
   ],
   "id": "6bdb2fce304c68a3",
   "execution_count": 23,
   "outputs": []
  },
  {
   "metadata": {
    "ExecuteTime": {
     "end_time": "2024-08-30T13:21:40.609905Z",
     "start_time": "2024-08-30T13:21:40.609807Z"
    }
   },
   "cell_type": "code",
   "source": "results",
   "id": "5cda1701856804fe",
   "execution_count": null,
   "outputs": []
  },
  {
   "metadata": {},
   "cell_type": "code",
   "source": [
    "# 将结果展开并格式化为 DataFrame 的行\n",
    "formatted_results = []\n",
    "for i, content in enumerate(data['content']):\n",
    "    for item in results[i]:\n",
    "        for person in item.get('考察人姓名', []):\n",
    "            result_row = {\n",
    "                'content': content,\n",
    "                '人物': person.get('text', ''),\n",
    "                '职位': ','.join([relation.get('text', '') for relation in person.get('relations', {}).get('考察人职位', [])]),\n",
    "                '所属城市': ','.join([relation.get('text', '') for relation in person.get('relations', {}).get('考察人所属城市', [])]),\n",
    "                '考察城市': ','.join([relation.get('text', '') for relation in person.get('relations', {}).get('所考察的城市', [])])\n",
    "            }\n",
    "            formatted_results.append(result_row)\n",
    "            \n",
    "# 用于存储去重后的结果\n",
    "unique_results = {}\n",
    "\n",
    "# 遍历每一条记录，按人物去重，并保留信息最多的那一项\n",
    "for result in formatted_results:\n",
    "    person = result['人物']\n",
    "    \n",
    "    # 如果该人物尚未在字典中，或当前记录信息更多，则更新字典\n",
    "    if person not in unique_results or (\n",
    "        len(result['职位']) + len(result['所属城市']) + len(result['考察城市']) >\n",
    "        len(unique_results[person]['职位']) + len(unique_results[person]['所属城市']) + len(unique_results[person]['考察城市'])\n",
    "    ):\n",
    "        unique_results[person] = result\n",
    "\n",
    "# 创建 DataFrame\n",
    "results_df = pd.DataFrame(list(unique_results.values()))\n",
    "\n",
    "current_time = datetime.now().strftime('%Y-%m-%d_%H-%M-%S')\n",
    "# 保存为 CSV 文件\n",
    "output_path = f'{current_time}_extracted_relations.csv'\n",
    "results_df.to_csv(output_path, index=False, encoding='utf-8-sig')"
   ],
   "id": "99cb2c02616422b6",
   "execution_count": null,
   "outputs": []
  },
  {
   "metadata": {},
   "cell_type": "code",
   "source": "",
   "id": "113e00267d136ff6",
   "execution_count": null,
   "outputs": []
  }
 ],
 "metadata": {
  "kernelspec": {
   "display_name": "Python 3",
   "language": "python",
   "name": "python3"
  },
  "language_info": {
   "codemirror_mode": {
    "name": "ipython",
    "version": 2
   },
   "file_extension": ".py",
   "mimetype": "text/x-python",
   "name": "python",
   "nbconvert_exporter": "python",
   "pygments_lexer": "ipython2",
   "version": "2.7.6"
  }
 },
 "nbformat": 4,
 "nbformat_minor": 5
}
