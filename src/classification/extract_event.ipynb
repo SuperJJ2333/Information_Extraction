{
 "cells": [
  {
   "cell_type": "code",
   "id": "initial_id",
   "metadata": {
    "collapsed": true,
    "ExecuteTime": {
     "end_time": "2024-08-30T12:58:03.166110Z",
     "start_time": "2024-08-30T12:58:03.156104Z"
    }
   },
   "source": [
    "from paddlenlp import Taskflow\n",
    "import paddle\n",
    "import pandas as pd\n",
    "import ast\n",
    "from datetime import datetime\n",
    "\n",
    "import warnings\n",
    "\n",
    "warnings.simplefilter(action='ignore', category=FutureWarning)\n"
   ],
   "execution_count": 5,
   "outputs": []
  },
  {
   "metadata": {
    "ExecuteTime": {
     "end_time": "2024-08-30T12:58:03.304091Z",
     "start_time": "2024-08-30T12:58:03.197037Z"
    }
   },
   "cell_type": "code",
   "source": [
    "text = ''\n",
    "files_path = r'../../temp/甘肃省_学习考察.xlsx'\n",
    "\n",
    "original_data = pd.read_excel(files_path)\n",
    "data = original_data.copy()"
   ],
   "id": "53a68eb728821567",
   "execution_count": null,
   "outputs": []
  },
  {
   "metadata": {},
   "cell_type": "code",
   "execution_count": 6,
   "source": [
    "def process_content(x):\n",
    "    # 防止长度过长\n",
    "    if len(x) > 1500:\n",
    "        return x\n",
    "    return ','.join(x)\n",
    "\n",
    "data['content'] = data['content'].apply(ast.literal_eval)\n",
    "data['content'] = data['content'].apply(process_content)\n"
   ],
   "id": "cc38e2c409fcdfd6",
   "outputs": []
  },
  {
   "metadata": {
    "ExecuteTime": {
     "end_time": "2024-08-30T12:58:06.916241Z",
     "start_time": "2024-08-30T12:58:03.308460Z"
    }
   },
   "cell_type": "code",
   "source": [
    "# 关系抽取\n",
    "schema = {'学习考察触发词': ['考察人', '考察人职位','考察城市'],\n",
    "          '访问触发词': ['访问人', '访问人职位','访问城市'],\n",
    "          '学习触发词': ['学习人', '学习人职位','学习城市'],\n",
    "          '考察触发词': ['考察人', '考察人职位','考察城市'],\n",
    "          '拜访触发词': ['拜访人', '拜访人职位','拜访城市']\n",
    "}\n",
    "ie = Taskflow('information_extraction', schema=schema, batch_size=32)"
   ],
   "id": "ce68358392a1163a",
   "execution_count": 7,
   "outputs": []
  },
  {
   "metadata": {
    "ExecuteTime": {
     "end_time": "2024-08-30T13:00:11.804626Z",
     "start_time": "2024-08-30T12:58:06.918523Z"
    }
   },
   "cell_type": "code",
   "source": [
    "# schema = {'考察触发词': ['来访城市', '受访城市', '来访人', '职位', '接访人'],\n",
    "#           '访问触发词': ['来访城市', '受访城市', '来访人', '职位', '接访人'],\n",
    "#           '学习触发词': ['来访城市', '受访城市', '来访人', '职位', '接访人']\n",
    "#           }\n",
    "\n",
    "# 批量处理数据\n",
    "results = [ie(content) for content in data['content']]"
   ],
   "id": "6bdb2fce304c68a3",
   "execution_count": 8,
   "outputs": []
  },
  {
   "metadata": {
    "ExecuteTime": {
     "end_time": "2024-08-30T13:00:11.902613Z",
     "start_time": "2024-08-30T13:00:11.806347Z"
    }
   },
   "cell_type": "code",
   "source": "results",
   "id": "5cda1701856804fe",
   "execution_count": 9,
   "outputs": []
  },
  {
   "metadata": {
    "ExecuteTime": {
     "end_time": "2024-08-30T13:02:04.245388Z",
     "start_time": "2024-08-30T13:02:04.211590Z"
    }
   },
   "cell_type": "code",
   "source": [
    "# 创建 DataFrame\n",
    "results_df = pd.DataFrame(results)\n",
    "\n",
    "current_time = datetime.now().strftime('%Y-%m-%d_%H-%M-%S')\n",
    "# 保存为 CSV 文件\n",
    "output_path = f'{current_time}_extracted_events.csv'\n",
    "results_df.to_csv(output_path, index=False, encoding='utf-8-sig')"
   ],
   "id": "113e00267d136ff6",
   "execution_count": 10,
   "outputs": []
  },
  {
   "metadata": {
    "ExecuteTime": {
     "end_time": "2024-08-30T13:04:32.691297Z",
     "start_time": "2024-08-30T13:04:32.666656Z"
    }
   },
   "cell_type": "code",
   "source": "results[0][0]",
   "id": "c777fd30e788c065",
   "execution_count": 12,
   "outputs": []
  },
  {
   "metadata": {},
   "cell_type": "code",
   "execution_count": null,
   "source": "",
   "id": "da732bb1278b5e88",
   "outputs": []
  }
 ],
 "metadata": {
  "kernelspec": {
   "display_name": "Python 3",
   "language": "python",
   "name": "python3"
  },
  "language_info": {
   "codemirror_mode": {
    "name": "ipython",
    "version": 2
   },
   "file_extension": ".py",
   "mimetype": "text/x-python",
   "name": "python",
   "nbconvert_exporter": "python",
   "pygments_lexer": "ipython2",
   "version": "2.7.6"
  }
 },
 "nbformat": 4,
 "nbformat_minor": 5
}
