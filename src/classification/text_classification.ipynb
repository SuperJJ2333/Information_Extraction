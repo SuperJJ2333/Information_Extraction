{
 "cells": [
  {
   "cell_type": "code",
   "id": "initial_id",
   "metadata": {
    "collapsed": true,
    "ExecuteTime": {
     "end_time": "2024-08-30T13:13:34.607031Z",
     "start_time": "2024-08-30T13:13:34.594766Z"
    }
   },
   "source": [
    "from pprint import pprint\n",
    "from paddlenlp import Taskflow\n",
    "import paddle\n",
    "import pandas as pd\n",
    "import ast\n",
    "from datetime import datetime\n",
    "\n",
    "import warnings\n",
    "\n",
    "warnings.simplefilter(action='ignore', category=FutureWarning)\n"
   ],
   "execution_count": 49,
   "outputs": []
  },
  {
   "metadata": {
    "ExecuteTime": {
     "end_time": "2024-08-30T13:13:34.622664Z",
     "start_time": "2024-08-30T13:13:34.613727Z"
    }
   },
   "cell_type": "code",
   "source": [
    "text = ''\n",
    "# files_path = r'../../temp/甘肃省_学习考察.xlsx'\n",
    "files_path = r'../../temp/全对测试集_学习考察.xlsx'\n",
    "# paddle.device.set_device(\"gpu\")"
   ],
   "id": "d18ecdf67abbf9cf",
   "execution_count": 50,
   "outputs": []
  },
  {
   "metadata": {
    "ExecuteTime": {
     "end_time": "2024-08-30T13:13:34.730180Z",
     "start_time": "2024-08-30T13:13:34.627872Z"
    }
   },
   "cell_type": "code",
   "source": [
    "# original_data = pd.read_excel(files_path, sheet_name='Sheet2')\n",
    "original_data = pd.read_excel(files_path)\n",
    "data = original_data.copy()"
   ],
   "id": "eba01ef7aa6b8d57",
   "execution_count": 51,
   "outputs": []
  },
  {
   "metadata": {
    "ExecuteTime": {
     "end_time": "2024-08-30T13:13:34.758018Z",
     "start_time": "2024-08-30T13:13:34.732985Z"
    }
   },
   "cell_type": "code",
   "source": [
    "def process_content(x):\n",
    "    # 防止长度过长\n",
    "    if len(x) > 1500:\n",
    "        return x\n",
    "    return ','.join(x)\n",
    "\n",
    "data['content'] = data['content'].apply(ast.literal_eval)\n",
    "data['content'] = data['content'].apply(process_content)"
   ],
   "id": "d0bb464649f84711",
   "execution_count": 52,
   "outputs": []
  },
  {
   "metadata": {
    "ExecuteTime": {
     "end_time": "2024-08-30T13:18:01.687225Z",
     "start_time": "2024-08-30T13:17:57.409611Z"
    }
   },
   "cell_type": "code",
   "source": [
    "schema_list = [\"政府领导到其他城市考察学习或访问\", \"不属于政府领导到其他城市考察学习的新闻\",\"其他\"]\n",
    "\n",
    "# 创建分类器\n",
    "cls = Taskflow(\"zero_shot_text_classification\", schema=schema_list, batch_size=32, max_seq_len=1024, precision='fp32', model='utc-xbase')"
   ],
   "id": "ca5e2cd5fba69733",
   "execution_count": 55,
   "outputs": []
  },
  {
   "metadata": {
    "ExecuteTime": {
     "end_time": "2024-08-30T13:18:31.504203Z",
     "start_time": "2024-08-30T13:18:01.690166Z"
    }
   },
   "cell_type": "code",
   "source": [
    "loop_limit = 5\n",
    "\n",
    "# 存储最终结果\n",
    "final_results = []\n",
    "\n",
    "for content in data['content']:\n",
    "    label_counts = {label: 0 for label in schema_list}  # 用于记录每个label的出现次数\n",
    "    label_total_scores  = {label: 0 for label in schema_list}  # 用于记录每个label的最高score\n",
    "    \n",
    "    for i in range(loop_limit):\n",
    "        temp = cls(content)\n",
    "        \n",
    "        # 获取每一轮的预测结果\n",
    "        predictions = temp[0].get('predictions', [])\n",
    "        \n",
    "        for prediction in predictions:\n",
    "            label = prediction.get('label')\n",
    "            score = prediction.get('score')\n",
    "            \n",
    "            # 增加label的出现次数\n",
    "            label_counts[label] += 1\n",
    "            \n",
    "            # 更新最高的score\n",
    "            label_total_scores[label] += score\n",
    "                \n",
    "    # 找出出现次数最多的label\n",
    "    final_label = max(label_counts, key=label_counts.get)\n",
    "    \n",
    "    # 确保不会除以零\n",
    "    if label_counts[final_label] > 0:\n",
    "        final_score = label_total_scores[final_label] / label_counts[final_label]\n",
    "    else:\n",
    "        final_score = 0  # 或者设置为一个适当的默认值\n",
    "    \n",
    "    # 记录最终结果\n",
    "    final_results.append({'content': content, 'label': final_label, 'score': final_score})\n",
    "\n",
    "# 输出最终结果\n",
    "for result in final_results:\n",
    "     print(f\"Content: {result['content']}, Label: {result['label']}, Score: {result['score']}\")"
   ],
   "id": "f0b7048f12dadbe2",
   "execution_count": 56,
   "outputs": []
  },
  {
   "metadata": {
    "ExecuteTime": {
     "end_time": "2024-08-30T13:18:56.916196Z",
     "start_time": "2024-08-30T13:18:56.883990Z"
    }
   },
   "cell_type": "code",
   "source": [
    "df = pd.DataFrame(final_results)\n",
    "# 获取当前时间并格式化为字符串\n",
    "current_time = datetime.now().strftime(\"%Y-%m-%d_%H-%M-%S\")\n",
    "df.to_csv(f'{current_time}_temp.csv', index=False)"
   ],
   "id": "b942ca7433c84e55",
   "execution_count": 59,
   "outputs": []
  },
  {
   "metadata": {},
   "cell_type": "code",
   "source": [
    "# text_types = [label.get('predictions') for label in temp]\n",
    "# text_types"
   ],
   "id": "810c6fc237663edd",
   "execution_count": 58,
   "outputs": []
  },
  {
   "metadata": {},
   "cell_type": "code",
   "source": "",
   "id": "b47b6b51b9594e53",
   "execution_count": 58,
   "outputs": []
  }
 ],
 "metadata": {
  "kernelspec": {
   "display_name": "Python 3",
   "language": "python",
   "name": "python3"
  },
  "language_info": {
   "codemirror_mode": {
    "name": "ipython",
    "version": 2
   },
   "file_extension": ".py",
   "mimetype": "text/x-python",
   "name": "python",
   "nbconvert_exporter": "python",
   "pygments_lexer": "ipython2",
   "version": "2.7.6"
  }
 },
 "nbformat": 4,
 "nbformat_minor": 5
}
